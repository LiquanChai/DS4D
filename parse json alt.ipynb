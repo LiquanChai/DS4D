{
 "cells": [
  {
   "cell_type": "code",
   "execution_count": 2,
   "metadata": {
    "collapsed": false
   },
   "outputs": [
    {
     "name": "stdout",
     "output_type": "stream",
     "text": [
      "D:\\DS4D\\twitter\\2017-09-22\\2017-09-22_00_05_01.json\n",
      "D:\\DS4D\\twitter\\2017-09-22\\2017-09-22_01_05_01.json\n",
      "D:\\DS4D\\twitter\\2017-09-22\\2017-09-22_02_05_01.json\n",
      "D:\\DS4D\\twitter\\2017-09-22\\2017-09-22_03_05_01.json\n",
      "D:\\DS4D\\twitter\\2017-09-22\\2017-09-22_04_05_01.json\n",
      "D:\\DS4D\\twitter\\2017-09-22\\2017-09-22_05_05_02.json\n",
      "D:\\DS4D\\twitter\\2017-09-22\\2017-09-22_06_05_01.json\n",
      "D:\\DS4D\\twitter\\2017-09-22\\2017-09-22_07_05_01.json\n",
      "D:\\DS4D\\twitter\\2017-09-22\\2017-09-22_08_05_01.json\n",
      "D:\\DS4D\\twitter\\2017-09-22\\2017-09-22_09_05_01.json\n",
      "D:\\DS4D\\twitter\\2017-09-22\\2017-09-22_10_05_02.json\n",
      "D:\\DS4D\\twitter\\2017-09-22\\2017-09-22_11_05_01.json\n",
      "D:\\DS4D\\twitter\\2017-09-22\\2017-09-22_12_05_01.json\n",
      "D:\\DS4D\\twitter\\2017-09-22\\2017-09-22_13_05_01.json\n",
      "D:\\DS4D\\twitter\\2017-09-22\\2017-09-22_14_05_01.json\n",
      "D:\\DS4D\\twitter\\2017-09-22\\2017-09-22_15_05_01.json\n",
      "D:\\DS4D\\twitter\\2017-09-22\\2017-09-22_16_05_01.json\n",
      "D:\\DS4D\\twitter\\2017-09-22\\2017-09-22_17_05_01.json\n",
      "D:\\DS4D\\twitter\\2017-09-22\\2017-09-22_18_05_01.json\n",
      "D:\\DS4D\\twitter\\2017-09-22\\2017-09-22_19_05_01.json\n",
      "D:\\DS4D\\twitter\\2017-09-22\\2017-09-22_20_05_01.json\n",
      "D:\\DS4D\\twitter\\2017-09-22\\2017-09-22_21_05_01.json\n",
      "D:\\DS4D\\twitter\\2017-09-22\\2017-09-22_22_05_01.json\n",
      "D:\\DS4D\\twitter\\2017-09-22\\2017-09-22_23_05_01.json\n"
     ]
    }
   ],
   "source": [
    "import json\n",
    "import glob\n",
    "\n",
    "file_path = \"D:\\\\DS4D\\\\twitter\\\\2017-09-22\\\\*.json\"\n",
    "\n",
    "for file_name in glob.glob(file_path):\n",
    "    print (file_name)\n",
    "    "
   ]
  },
  {
   "cell_type": "code",
   "execution_count": 3,
   "metadata": {
    "collapsed": false
   },
   "outputs": [],
   "source": [
    "def load_tweets(file_name):\n",
    "    with open(file_name, \"r\", encoding='utf-8') as f:\n",
    "        tweets = (json.loads(line) for index, line in enumerate(f.readlines()))\n",
    "        return tweets # # generator object\n",
    "\n",
    "tweets = load_tweets(\"2017-09-23_07_05_01.json\")"
   ]
  },
  {
   "cell_type": "code",
   "execution_count": 4,
   "metadata": {
    "collapsed": false
   },
   "outputs": [],
   "source": [
    "# next(tweets) # check"
   ]
  },
  {
   "cell_type": "markdown",
   "metadata": {},
   "source": [
    "Attribute that might use for a single twitter:\n",
    "Tweet related:\n",
    "https://developer.twitter.com/en/docs/tweets/data-dictionary/overview/tweet-object\n",
    "* ['id_str'] - String, unique identifier for this Tweet\n",
    "* ['created_at'] - String, UTC time when this Tweet was created\n",
    "* ['text'] - String, UTF-8 text of the status update.\n",
    "* ['entities']['hashtags'] - list, e.g. [{'indices': [79, 86], 'text': 'Brexit'}]\n",
    "* ['source'] - String, utility used to post the Tweet, as an HTML-formatted string\n",
    "\n",
    "\n",
    "* ['favorite_count'] - int\n",
    "* ['retweet_count'] - int\n",
    "* ['quote_count'] - int\n",
    "* ['reply_count'] - int\n",
    "\n",
    "User related:\n",
    "https://developer.twitter.com/en/docs/tweets/data-dictionary/overview/user-object\n",
    "* ['user']['id_str']\n",
    "* ['user']['friends_count']\n",
    "* ['user']['favourites_count']\n",
    "* ['user']['followers_count']\n",
    "* ['user'][statuses_count]"
   ]
  },
  {
   "cell_type": "code",
   "execution_count": 5,
   "metadata": {
    "collapsed": false
   },
   "outputs": [],
   "source": [
    "# tweeter json data to dataframe\n",
    "import pandas as pd\n",
    "d = {\"id_str\": [], \"created_at\": [], \"text\": [], \"source\": [], \"hashtags\": []} # col1. col2...\n",
    "\n",
    "for t in tweets:\n",
    "    d[\"id_str\"].append(t[\"id_str\"])\n",
    "    d[\"created_at\"].append(t[\"created_at\"])\n",
    "    d[\"text\"].append(t[\"text\"])\n",
    "    d[\"source\"].append(t[\"source\"])\n",
    "    d[\"hashtags\"].append([hash_tag[\"text\"] for hash_tag in t[\"entities\"][\"hashtags\"]])"
   ]
  },
  {
   "cell_type": "code",
   "execution_count": 6,
   "metadata": {
    "collapsed": false
   },
   "outputs": [
    {
     "name": "stdout",
     "output_type": "stream",
     "text": [
      "<class 'str'>\n"
     ]
    },
    {
     "data": {
      "text/html": [
       "<div>\n",
       "<table border=\"1\" class=\"dataframe\">\n",
       "  <thead>\n",
       "    <tr style=\"text-align: right;\">\n",
       "      <th></th>\n",
       "      <th>created_at</th>\n",
       "      <th>hashtags</th>\n",
       "      <th>id_str</th>\n",
       "      <th>source</th>\n",
       "      <th>text</th>\n",
       "    </tr>\n",
       "  </thead>\n",
       "  <tbody>\n",
       "    <tr>\n",
       "      <th>0</th>\n",
       "      <td>Sat Sep 23 06:05:03 +0000 2017</td>\n",
       "      <td>[]</td>\n",
       "      <td>911471455543623680</td>\n",
       "      <td>&lt;a href=\"http://twitter.com/#!/download/ipad\" ...</td>\n",
       "      <td>RT @damocrat: People like her &amp;amp; her Tory h...</td>\n",
       "    </tr>\n",
       "    <tr>\n",
       "      <th>1</th>\n",
       "      <td>Sat Sep 23 06:05:05 +0000 2017</td>\n",
       "      <td>[Brexit]</td>\n",
       "      <td>911471459993837568</td>\n",
       "      <td>&lt;a href=\"http://twitter.com/download/iphone\" r...</td>\n",
       "      <td>RT @CraigWhitington: #Brexit - When should the...</td>\n",
       "    </tr>\n",
       "    <tr>\n",
       "      <th>2</th>\n",
       "      <td>Sat Sep 23 06:05:06 +0000 2017</td>\n",
       "      <td>[Brexit, May]</td>\n",
       "      <td>911471467946225664</td>\n",
       "      <td>&lt;a href=\"http://twitter.com\" rel=\"nofollow\"&gt;Tw...</td>\n",
       "      <td>Moody's stuft Bonität Großbritanniens ab - nur...</td>\n",
       "    </tr>\n",
       "    <tr>\n",
       "      <th>3</th>\n",
       "      <td>Sat Sep 23 06:05:08 +0000 2017</td>\n",
       "      <td>[Brexit]</td>\n",
       "      <td>911471475521150976</td>\n",
       "      <td>&lt;a href=\"http://www.google.com/\" rel=\"nofollow...</td>\n",
       "      <td>Brexit: UK needs to clarify issues - Macron - ...</td>\n",
       "    </tr>\n",
       "    <tr>\n",
       "      <th>4</th>\n",
       "      <td>Sat Sep 23 06:05:08 +0000 2017</td>\n",
       "      <td>[]</td>\n",
       "      <td>911471476116803584</td>\n",
       "      <td>&lt;a href=\"http://twitter.com/download/android\" ...</td>\n",
       "      <td>RT @docrussjackson: An Englishman, a Scotsman ...</td>\n",
       "    </tr>\n",
       "  </tbody>\n",
       "</table>\n",
       "</div>"
      ],
      "text/plain": [
       "                       created_at       hashtags              id_str  \\\n",
       "0  Sat Sep 23 06:05:03 +0000 2017             []  911471455543623680   \n",
       "1  Sat Sep 23 06:05:05 +0000 2017       [Brexit]  911471459993837568   \n",
       "2  Sat Sep 23 06:05:06 +0000 2017  [Brexit, May]  911471467946225664   \n",
       "3  Sat Sep 23 06:05:08 +0000 2017       [Brexit]  911471475521150976   \n",
       "4  Sat Sep 23 06:05:08 +0000 2017             []  911471476116803584   \n",
       "\n",
       "                                              source  \\\n",
       "0  <a href=\"http://twitter.com/#!/download/ipad\" ...   \n",
       "1  <a href=\"http://twitter.com/download/iphone\" r...   \n",
       "2  <a href=\"http://twitter.com\" rel=\"nofollow\">Tw...   \n",
       "3  <a href=\"http://www.google.com/\" rel=\"nofollow...   \n",
       "4  <a href=\"http://twitter.com/download/android\" ...   \n",
       "\n",
       "                                                text  \n",
       "0  RT @damocrat: People like her &amp; her Tory h...  \n",
       "1  RT @CraigWhitington: #Brexit - When should the...  \n",
       "2  Moody's stuft Bonität Großbritanniens ab - nur...  \n",
       "3  Brexit: UK needs to clarify issues - Macron - ...  \n",
       "4  RT @docrussjackson: An Englishman, a Scotsman ...  "
      ]
     },
     "execution_count": 6,
     "metadata": {},
     "output_type": "execute_result"
    }
   ],
   "source": [
    "data = pd.DataFrame(d)\n",
    "print(type(data[\"created_at\"][0]))\n",
    "data.head()"
   ]
  },
  {
   "cell_type": "code",
   "execution_count": 7,
   "metadata": {
    "collapsed": false
   },
   "outputs": [],
   "source": [
    "# helper functions for data cleaning\n",
    "def flat_list(nested_list):\n",
    "    return [item for sublist in nested_list for item in sublist]\n",
    "\n",
    "def lower_case(hash_tags):\n",
    "    return [hash_tag.lower() for hash_tag in hash_tags]"
   ]
  },
  {
   "cell_type": "code",
   "execution_count": 8,
   "metadata": {
    "collapsed": false
   },
   "outputs": [],
   "source": [
    "# clean the data\n",
    "# 1. hash tags to lower case\n",
    "for index, hashtags in enumerate(data[\"hashtags\"]):\n",
    "    hashtags_lower = []\n",
    "    for hashtag in hashtags:\n",
    "        hashtags_lower.append(hashtag.lower())\n",
    "        data[\"hashtags\"][index] = hashtags_lower"
   ]
  },
  {
   "cell_type": "code",
   "execution_count": 9,
   "metadata": {
    "collapsed": false
   },
   "outputs": [
    {
     "data": {
      "text/plain": [
       "[('brexit', 1476),\n",
       " ('eu', 351),\n",
       " ('florencespeech', 330),\n",
       " ('referendum', 205),\n",
       " ('europe', 172),\n",
       " ('remain', 155),\n",
       " ('stopbrexit', 120),\n",
       " ('theresamay', 97),\n",
       " ('ukip', 78),\n",
       " ('catalunya', 63),\n",
       " ('uk', 60),\n",
       " ('refugeeswelcome', 55),\n",
       " ('occitània', 52),\n",
       " ('catnord', 52),\n",
       " ('alcaldes', 49),\n",
       " ('leave', 44),\n",
       " ('scotref', 43),\n",
       " ('1o', 41),\n",
       " ('news', 40),\n",
       " ('government', 40),\n",
       " ('may', 39),\n",
       " ('florence', 34),\n",
       " ('libre', 32),\n",
       " ('indyref2', 31),\n",
       " ('conservatives', 31),\n",
       " ('europeunion', 30),\n",
       " ('euref', 27),\n",
       " ('followfarage', 24),\n",
       " ('travel', 24),\n",
       " ('walkawaymay', 24),\n",
       " ('tcot', 24),\n",
       " ('catalonia', 22),\n",
       " ('europeanunion', 22),\n",
       " ('europa', 21),\n",
       " ('1oct', 21),\n",
       " ('immigration', 21),\n",
       " ('fintech', 20),\n",
       " ('brexitbetrayal', 19),\n",
       " ('brexitshambles', 18),\n",
       " ('obamacare', 17),\n",
       " ('maymustgo', 17),\n",
       " ('bbc', 15),\n",
       " ('bbcnews', 14),\n",
       " ('macron', 14),\n",
       " ('biafrareferendum', 14),\n",
       " ('tories', 13),\n",
       " ('destroyed', 13),\n",
       " ('r4today', 13),\n",
       " ('trump', 13),\n",
       " ('usa', 12)]"
      ]
     },
     "execution_count": 9,
     "metadata": {},
     "output_type": "execute_result"
    }
   ],
   "source": [
    "import nltk\n",
    "total_hashtags = flat_list( data[\"hashtags\"])\n",
    "hash_tags_dist = nltk.FreqDist(total_hashtags)\n",
    "hash_tags_dist.most_common(50)"
   ]
  },
  {
   "cell_type": "code",
   "execution_count": 10,
   "metadata": {
    "collapsed": false
   },
   "outputs": [
    {
     "data": {
      "image/png": "[encoded data removed]",
      "text/plain": [
       "<matplotlib.figure.Figure at 0xe7ff630>"
      ]
     },
     "metadata": {},
     "output_type": "display_data"
    }
   ],
   "source": [
    "%matplotlib inline\n",
    "import seaborn as sns\n",
    "sns.set_style(\"darkgrid\") # set aesthetics\n",
    "sns.set(color_codes=True)\n",
    "\n",
    "hash_tags_dist.plot(20) # top 20 hashtags\n",
    "\n",
    "\n",
    "# series_hash_tags_dist = pd.Series(dict(hash_tags_dist))\n",
    "# series_hash_tags_dist = series_hash_tags_dist.sort_values(ascending=False)\n",
    "\n",
    "# series_hash_tags_dist[:10].plot(x=series_hash_tags_dist.index[:10])\n",
    "# plt.tight_layout()\n",
    "\n",
    "# sns.distplot(series_hash_tags_dist[:30])"
   ]
  },
  {
   "cell_type": "code",
   "execution_count": null,
   "metadata": {
    "collapsed": false
   },
   "outputs": [],
   "source": []
  },
  {
   "cell_type": "code",
   "execution_count": null,
   "metadata": {
    "collapsed": false
   },
   "outputs": [],
   "source": [
    "[{'indices': [79, 86], 'text': 'Brexit'}][0]"
   ]
  },
  {
   "cell_type": "code",
   "execution_count": null,
   "metadata": {
    "collapsed": true
   },
   "outputs": [],
   "source": []
  }
 ],
 "metadata": {
  "anaconda-cloud": {},
  "kernelspec": {
   "display_name": "Python [conda root]",
   "language": "python",
   "name": "conda-root-py"
  },
  "language_info": {
   "codemirror_mode": {
    "name": "ipython",
    "version": 3
   },
   "file_extension": ".py",
   "mimetype": "text/x-python",
   "name": "python",
   "nbconvert_exporter": "python",
   "pygments_lexer": "ipython3",
   "version": "3.5.2"
  }
 },
 "nbformat": 4,
 "nbformat_minor": 1
}
